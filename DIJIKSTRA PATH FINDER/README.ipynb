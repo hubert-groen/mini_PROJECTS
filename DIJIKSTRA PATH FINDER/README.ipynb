{
 "cells": [
  {
   "attachments": {},
   "cell_type": "markdown",
   "metadata": {},
   "source": [
    "### Algorytm znajdowania ścieżki w grafie"
   ]
  },
  {
   "cell_type": "code",
   "execution_count": 5,
   "metadata": {},
   "outputs": [
    {
     "name": "stdout",
     "output_type": "stream",
     "text": [
      "[' ', ' ', 'X', '2', '1', '1', '9']\n",
      "['8', '9', '1', '3', '4', '5', '6']\n",
      "['1', ' ', ' ', ' ', '1', '2', '1']\n",
      "['1', '1', '1', '1', '1', '1', 'X']\n",
      "Najmniejszy koszt ścieżki: 10\n",
      "Ścieżka: [(0, 2), (0, 3), (0, 4), (1, 4), (2, 4), (3, 4), (3, 5), (3, 6)]\n",
      "[' ', ' ', 'X', '2', '1', ' ', ' ']\n",
      "[' ', ' ', ' ', ' ', '4', ' ', ' ']\n",
      "[' ', ' ', ' ', ' ', '1', ' ', ' ']\n",
      "[' ', ' ', ' ', ' ', '1', '1', 'X']\n"
     ]
    }
   ],
   "source": [
    "from dijkstra_algorithm import find_shortest_path\n",
    "\n",
    "find_shortest_path('example_1.txt')"
   ]
  },
  {
   "cell_type": "code",
   "execution_count": 6,
   "metadata": {},
   "outputs": [
    {
     "name": "stdout",
     "output_type": "stream",
     "text": [
      "[' ', ' ', 'X', '2', '1', '1', '9']\n",
      "['8', '9', '1', '3', '4', '5', '6']\n",
      "['1', ' ', ' ', ' ', '1', '2', '1']\n",
      "['1', '1', '1', '1', '1', '1', 'X']\n",
      "Najmniejszy koszt ścieżki: 10\n",
      "Ścieżka: [(0, 2), (0, 3), (0, 4), (1, 4), (2, 4), (3, 4), (3, 5), (3, 6)]\n",
      "[' ', ' ', 'X', '2', '1', ' ', ' ']\n",
      "[' ', ' ', ' ', ' ', '4', ' ', ' ']\n",
      "[' ', ' ', ' ', ' ', '1', ' ', ' ']\n",
      "[' ', ' ', ' ', ' ', '1', '1', 'X']\n"
     ]
    }
   ],
   "source": [
    "find_shortest_path('example_2.txt')\n"
   ]
  },
  {
   "cell_type": "code",
   "execution_count": 7,
   "metadata": {},
   "outputs": [
    {
     "name": "stdout",
     "output_type": "stream",
     "text": [
      "[' ', ' ', 'X', '2', '1', '1', '9']\n",
      "['8', '9', '1', '3', '4', '5', '6']\n",
      "['1', ' ', ' ', ' ', '1', '2', '1']\n",
      "['1', '1', '1', '1', '1', '1', 'X']\n",
      "Najmniejszy koszt ścieżki: 10\n",
      "Ścieżka: [(0, 2), (0, 3), (0, 4), (1, 4), (2, 4), (3, 4), (3, 5), (3, 6)]\n",
      "[' ', ' ', 'X', '2', '1', ' ', ' ']\n",
      "[' ', ' ', ' ', ' ', '4', ' ', ' ']\n",
      "[' ', ' ', ' ', ' ', '1', ' ', ' ']\n",
      "[' ', ' ', ' ', ' ', '1', '1', 'X']\n"
     ]
    }
   ],
   "source": [
    "find_shortest_path('example_3.txt')\n"
   ]
  },
  {
   "cell_type": "code",
   "execution_count": 8,
   "metadata": {},
   "outputs": [
    {
     "name": "stdout",
     "output_type": "stream",
     "text": [
      "[' ', ' ', 'X', '2', '1', '1', '9']\n",
      "['8', '9', '1', '3', '4', '5', '6']\n",
      "['1', ' ', ' ', ' ', '1', '2', '1']\n",
      "['1', '1', '1', '1', '1', '1', 'X']\n",
      "Najmniejszy koszt ścieżki: 10\n",
      "Ścieżka: [(0, 2), (0, 3), (0, 4), (1, 4), (2, 4), (3, 4), (3, 5), (3, 6)]\n",
      "[' ', ' ', 'X', '2', '1', ' ', ' ']\n",
      "[' ', ' ', ' ', ' ', '4', ' ', ' ']\n",
      "[' ', ' ', ' ', ' ', '1', ' ', ' ']\n",
      "[' ', ' ', ' ', ' ', '1', '1', 'X']\n"
     ]
    }
   ],
   "source": [
    "find_shortest_path('example_4.txt')"
   ]
  }
 ],
 "metadata": {
  "kernelspec": {
   "display_name": "Python 3",
   "language": "python",
   "name": "python3"
  },
  "language_info": {
   "codemirror_mode": {
    "name": "ipython",
    "version": 3
   },
   "file_extension": ".py",
   "mimetype": "text/x-python",
   "name": "python",
   "nbconvert_exporter": "python",
   "pygments_lexer": "ipython3",
   "version": "3.11.2"
  },
  "orig_nbformat": 4
 },
 "nbformat": 4,
 "nbformat_minor": 2
}
