{
 "cells": [
  {
   "cell_type": "code",
   "execution_count": 86,
   "metadata": {},
   "outputs": [],
   "source": [
    "import os\n",
    "os.environ['TF_CPP_MIN_LOG_LEVEL'] = '3' \n",
    "\n",
    "import tensorflow as tf\n",
    "from tensorflow import keras\n",
    "\n",
    "import pandas as pd\n",
    "import numpy as np"
   ]
  },
  {
   "cell_type": "code",
   "execution_count": 87,
   "metadata": {},
   "outputs": [
    {
     "name": "stdout",
     "output_type": "stream",
     "text": [
      "   Id  SepalLengthCm  SepalWidthCm  PetalLengthCm  PetalWidthCm      Species\n",
      "0   1            5.1           3.5            1.4           0.2  Iris-setosa\n",
      "1   2            4.9           3.0            1.4           0.2  Iris-setosa\n",
      "2   3            4.7           3.2            1.3           0.2  Iris-setosa\n",
      "3   4            4.6           3.1            1.5           0.2  Iris-setosa\n",
      "4   5            5.0           3.6            1.4           0.2  Iris-setosa\n"
     ]
    }
   ],
   "source": [
    "train_df = pd.read_csv('./data/iris.csv')\n",
    "np.random.shuffle(train_df.values)\n",
    "\n",
    "print(train_df.head())\n",
    "\n",
    "train_x = np.column_stack((train_df.SepalLengthCm.values, train_df.SepalWidthCm.values, train_df.PetalLengthCm.values, train_df.PetalWidthCm.values))"
   ]
  },
  {
   "cell_type": "code",
   "execution_count": 88,
   "metadata": {},
   "outputs": [
    {
     "name": "stdout",
     "output_type": "stream",
     "text": [
      "['Iris-setosa' 'Iris-versicolor' 'Iris-virginica']\n",
      "[0 1 2]\n"
     ]
    }
   ],
   "source": [
    "print(train_df.Species.unique())\n",
    "\n",
    "species_dict = {'Iris-setosa': 0, 'Iris-versicolor': 1, 'Iris-virginica': 2}\n",
    "\n",
    "train_df['Species'] = train_df.Species.apply(lambda x: species_dict[x])\n",
    "\n",
    "print(train_df.Species.unique())"
   ]
  },
  {
   "cell_type": "code",
   "execution_count": 92,
   "metadata": {},
   "outputs": [
    {
     "name": "stdout",
     "output_type": "stream",
     "text": [
      "Epoch 1/10\n"
     ]
    },
    {
     "name": "stderr",
     "output_type": "stream",
     "text": [
      "/home/hubert/.local/lib/python3.10/site-packages/keras/src/backend.py:5727: UserWarning: \"`sparse_categorical_crossentropy` received `from_logits=True`, but the `output` argument was produced by a Softmax activation and thus does not represent logits. Was this intended?\n",
      "  output, from_logits = _get_logits(\n"
     ]
    },
    {
     "name": "stdout",
     "output_type": "stream",
     "text": [
      "38/38 [==============================] - 1s 6ms/step - loss: 0.9865 - accuracy: 0.7267\n",
      "Epoch 2/10\n",
      "38/38 [==============================] - 0s 6ms/step - loss: 0.6426 - accuracy: 0.7867\n",
      "Epoch 3/10\n",
      "38/38 [==============================] - 0s 5ms/step - loss: 0.4076 - accuracy: 0.9267\n",
      "Epoch 4/10\n",
      "38/38 [==============================] - 0s 6ms/step - loss: 0.3077 - accuracy: 0.9200\n",
      "Epoch 5/10\n",
      "38/38 [==============================] - 0s 6ms/step - loss: 0.2223 - accuracy: 0.9533\n",
      "Epoch 6/10\n",
      "38/38 [==============================] - 0s 5ms/step - loss: 0.1677 - accuracy: 0.9600\n",
      "Epoch 7/10\n",
      "38/38 [==============================] - 0s 6ms/step - loss: 0.1473 - accuracy: 0.9533\n",
      "Epoch 8/10\n",
      "38/38 [==============================] - 0s 6ms/step - loss: 0.1536 - accuracy: 0.9467\n",
      "Epoch 9/10\n",
      "38/38 [==============================] - 0s 6ms/step - loss: 0.1330 - accuracy: 0.9533\n",
      "Epoch 10/10\n",
      "38/38 [==============================] - 0s 6ms/step - loss: 0.1249 - accuracy: 0.9467\n"
     ]
    }
   ],
   "source": [
    "model = keras.Sequential([\n",
    "\tkeras.layers.Dense(64, input_shape=(4,), activation='relu'),\n",
    "    # keras.layers.Dropout(0.2),\t\t\t\t\t\t\t\t\t# % of neurons (of previous layer) that will be dropped\n",
    "    keras.layers.Dense(64, activation='relu'),\n",
    "\tkeras.layers.Dense(64, activation='relu'),\t\t\t\t\t\t# adding layer, because quadratic example is more complex\n",
    "\tkeras.layers.Dense(3, activation='sigmoid')])\n",
    "\n",
    "model.compile(optimizer='adam', \n",
    "\t          loss=keras.losses.SparseCategoricalCrossentropy(from_logits=True),\n",
    "\t          metrics=['accuracy'])\n",
    "\n",
    "results = model.fit(train_x, train_df.Species.values, batch_size=4, epochs=10)\n",
    "\n",
    "# losses = results.history['loss']\n",
    "# accuracies = results.history['accuracy']"
   ]
  },
  {
   "cell_type": "code",
   "execution_count": 93,
   "metadata": {},
   "outputs": [
    {
     "name": "stdout",
     "output_type": "stream",
     "text": [
      "EVALUATION\n",
      "5/5 [==============================] - 0s 5ms/step - loss: 0.0879 - accuracy: 0.9733\n"
     ]
    },
    {
     "name": "stderr",
     "output_type": "stream",
     "text": [
      "/home/hubert/.local/lib/python3.10/site-packages/keras/src/backend.py:5727: UserWarning: \"`sparse_categorical_crossentropy` received `from_logits=True`, but the `output` argument was produced by a Softmax activation and thus does not represent logits. Was this intended?\n",
      "  output, from_logits = _get_logits(\n"
     ]
    }
   ],
   "source": [
    "test_df = pd.read_csv('./data/iris.csv')\n",
    "test_x = np.column_stack((test_df.SepalLengthCm.values, test_df.SepalWidthCm.values, test_df.PetalLengthCm.values, test_df.PetalWidthCm.values))\n",
    "\n",
    "test_df['Species'] = test_df.Species.apply(lambda x: species_dict[x])\n",
    "\n",
    "print(\"EVALUATION\")\n",
    "evaluation = model.evaluate(test_x, test_df.Species.values)"
   ]
  }
 ],
 "metadata": {
  "kernelspec": {
   "display_name": "Python 3",
   "language": "python",
   "name": "python3"
  },
  "language_info": {
   "codemirror_mode": {
    "name": "ipython",
    "version": 3
   },
   "file_extension": ".py",
   "mimetype": "text/x-python",
   "name": "python",
   "nbconvert_exporter": "python",
   "pygments_lexer": "ipython3",
   "version": "3.10.12"
  }
 },
 "nbformat": 4,
 "nbformat_minor": 2
}
